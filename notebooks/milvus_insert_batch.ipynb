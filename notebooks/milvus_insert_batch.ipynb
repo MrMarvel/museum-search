{
 "cells": [
  {
   "cell_type": "code",
   "execution_count": 1,
   "metadata": {},
   "outputs": [],
   "source": [
    "from pathlib import Path\n",
    "import pandas as pd\n",
    "import yaml\n",
    "import numpy as np\n",
    "import sys\n",
    "sys.path.append('..')\n",
    "from tqdm.notebook import trange\n",
    "\n",
    "from services.adapter.src import MilvusWrapper"
   ]
  },
  {
   "cell_type": "code",
   "execution_count": 2,
   "metadata": {},
   "outputs": [],
   "source": [
    "from pymilvus import CollectionSchema, DataType, FieldSchema\n",
    "def create_schema(description='Museum features') -> CollectionSchema:\n",
    "    img_id = FieldSchema(\n",
    "        name=\"id\",\n",
    "        dtype=DataType.INT64,\n",
    "        is_primary=True,\n",
    "        auto_id=True\n",
    "    )\n",
    "\n",
    "    image_path = FieldSchema(\n",
    "        name=\"image_path\",\n",
    "        dtype=DataType.VARCHAR,\n",
    "        max_length=100,\n",
    "        default_value=\"Unknown\"\n",
    "    )\n",
    "    \n",
    "    object_id = FieldSchema(\n",
    "        name=\"object_id\",\n",
    "        dtype=DataType.INT64,\n",
    "    )\n",
    "    \n",
    "    description = FieldSchema(\n",
    "        name=\"description\",\n",
    "        dtype=DataType.VARCHAR,\n",
    "        max_length=10000,\n",
    "        default_value=\"Unknown\"\n",
    "    )\n",
    "    \n",
    "    features = FieldSchema(\n",
    "        name=\"features\",\n",
    "        dtype=DataType.FLOAT_VECTOR,\n",
    "        dim=1408\n",
    "    )\n",
    "\n",
    "    schema = CollectionSchema(\n",
    "        fields=[img_id, image_path, object_id, description, features],\n",
    "        description='Image retrieval',\n",
    "        enable_dynamic_field=True\n",
    "    )\n",
    "    return schema"
   ]
  },
  {
   "cell_type": "code",
   "execution_count": 3,
   "metadata": {},
   "outputs": [
    {
     "name": "stderr",
     "output_type": "stream",
     "text": [
      "\u001b[32m2024-04-13 15:50:45.305\u001b[0m | \u001b[1mINFO    \u001b[0m | \u001b[36mservices.adapter.src.wrappers.milvus_wrapper\u001b[0m:\u001b[36m_load_config\u001b[0m:\u001b[36m34\u001b[0m - \u001b[1mConfig has been loaded\u001b[0m\n",
      "\u001b[32m2024-04-13 15:50:45.334\u001b[0m | \u001b[1mINFO    \u001b[0m | \u001b[36mservices.adapter.src.wrappers.milvus_wrapper\u001b[0m:\u001b[36mconnect\u001b[0m:\u001b[36m43\u001b[0m - \u001b[1mMilvus has been connected\u001b[0m\n",
      "\u001b[32m2024-04-13 15:50:45.389\u001b[0m | \u001b[1mINFO    \u001b[0m | \u001b[36mservices.adapter.src.wrappers.milvus_wrapper\u001b[0m:\u001b[36minit_collection\u001b[0m:\u001b[36m71\u001b[0m - \u001b[1mNew collection museum_features has been added\u001b[0m\n"
     ]
    }
   ],
   "source": [
    "config = yaml.safe_load(Path('../configs/config.yaml').read_text())\n",
    "milvus = MilvusWrapper(config['milvus'])\n",
    "milvus.connect()\n",
    "milvus.init_collection(config['collection_name'], schema=create_schema())"
   ]
  },
  {
   "cell_type": "code",
   "execution_count": 9,
   "metadata": {},
   "outputs": [],
   "source": [
    "data = []\n",
    "for i, row in pd.read_csv('../dataset/train.csv', sep=';').fillna('').iterrows():\n",
    "    image_path = Path(f'/home/borntowarn/projects/borntowarn/museum_search/storage/{row.object_id}/{row.img_name}')\n",
    "    feature = np.load(image_path.with_suffix('.npy')).astype(np.float32)\n",
    "    data.append({\n",
    "        'image_path': f'/storage/{row.object_id}/{row.img_name}',\n",
    "        'object_id': int(row.object_id),\n",
    "        'description': row.description,\n",
    "        'features': (feature / np.linalg.norm(feature, axis=-1, keepdims=True))[0],\n",
    "    })"
   ]
  },
  {
   "cell_type": "code",
   "execution_count": 13,
   "metadata": {},
   "outputs": [
    {
     "data": {
      "application/vnd.jupyter.widget-view+json": {
       "model_id": "3030722e3e214ade9c173a125c6d217a",
       "version_major": 2,
       "version_minor": 0
      },
      "text/plain": [
       "  0%|          | 0/1018 [00:00<?, ?it/s]"
      ]
     },
     "metadata": {},
     "output_type": "display_data"
    }
   ],
   "source": [
    "batch = 20\n",
    "for i in trange(int(np.ceil(len(data) / batch))):\n",
    "    milvus.insert(data[i * batch : (i + 1) * batch])"
   ]
  }
 ],
 "metadata": {
  "kernelspec": {
   "display_name": "Python 3",
   "language": "python",
   "name": "python3"
  },
  "language_info": {
   "codemirror_mode": {
    "name": "ipython",
    "version": 3
   },
   "file_extension": ".py",
   "mimetype": "text/x-python",
   "name": "python",
   "nbconvert_exporter": "python",
   "pygments_lexer": "ipython3",
   "version": "3.11.8"
  },
  "orig_nbformat": 4
 },
 "nbformat": 4,
 "nbformat_minor": 2
}
