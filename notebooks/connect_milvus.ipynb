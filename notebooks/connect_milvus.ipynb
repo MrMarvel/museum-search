{
 "cells": [
  {
   "cell_type": "markdown",
   "metadata": {},
   "source": [
    "### Подключаемся к Milvus"
   ]
  },
  {
   "cell_type": "code",
   "execution_count": 1,
   "metadata": {},
   "outputs": [],
   "source": [
    "from pymilvus import connections\n",
    "from pymilvus import utility\n",
    "\n",
    "# Use host and port\n",
    "connections.connect(\"default\", host=\"localhost\", port=\"19530\")"
   ]
  },
  {
   "cell_type": "code",
   "execution_count": 2,
   "metadata": {},
   "outputs": [],
   "source": [
    "import tempfile"
   ]
  },
  {
   "cell_type": "code",
   "execution_count": 6,
   "metadata": {},
   "outputs": [
    {
     "data": {
      "text/plain": [
       "4"
      ]
     },
     "execution_count": 6,
     "metadata": {},
     "output_type": "execute_result"
    }
   ],
   "source": [
    "file = tempfile.NamedTemporaryFile(suffix='.jpg', dir='.')\n",
    "file.write(b'qwer')"
   ]
  },
  {
   "cell_type": "code",
   "execution_count": 3,
   "metadata": {},
   "outputs": [
    {
     "data": {
      "text/plain": [
       "['museum_features']"
      ]
     },
     "execution_count": 3,
     "metadata": {},
     "output_type": "execute_result"
    }
   ],
   "source": [
    "utility.list_collections()"
   ]
  },
  {
   "cell_type": "code",
   "execution_count": 4,
   "metadata": {},
   "outputs": [],
   "source": [
    "from pymilvus import CollectionSchema, FieldSchema, DataType, Collection\n",
    "\n",
    "collection_name = \"museum_features\"\n",
    "\n",
    "collection = Collection(name=collection_name)"
   ]
  },
  {
   "cell_type": "code",
   "execution_count": 7,
   "metadata": {},
   "outputs": [
    {
     "data": {
      "text/plain": [
       "[<pymilvus.orm.index.Index at 0x7fb35006f690>]"
      ]
     },
     "execution_count": 7,
     "metadata": {},
     "output_type": "execute_result"
    }
   ],
   "source": [
    "collection.indexes"
   ]
  },
  {
   "cell_type": "code",
   "execution_count": 6,
   "metadata": {},
   "outputs": [
    {
     "data": {
      "text/plain": [
       "Status(code=0, message=)"
      ]
     },
     "execution_count": 6,
     "metadata": {},
     "output_type": "execute_result"
    }
   ],
   "source": [
    "collection.create_index(\n",
    "    'features',\n",
    "    {\n",
    "        'index_type': 'IVF_FLAT',\n",
    "        'metric_type': 'L2',\n",
    "        'nlist': 512\n",
    "    },\n",
    "    index_name='index'\n",
    ")"
   ]
  },
  {
   "cell_type": "code",
   "execution_count": 18,
   "metadata": {},
   "outputs": [
    {
     "data": {
      "text/plain": [
       "20345"
      ]
     },
     "execution_count": 18,
     "metadata": {},
     "output_type": "execute_result"
    }
   ],
   "source": [
    "collection.num_entities"
   ]
  },
  {
   "cell_type": "markdown",
   "metadata": {},
   "source": [
    "### Векторный поиск"
   ]
  },
  {
   "cell_type": "code",
   "execution_count": 20,
   "metadata": {},
   "outputs": [],
   "source": [
    "collection.load()"
   ]
  },
  {
   "cell_type": "code",
   "execution_count": 24,
   "metadata": {},
   "outputs": [
    {
     "data": {
      "text/plain": [
       "<LoadState: Loaded>"
      ]
     },
     "execution_count": 24,
     "metadata": {},
     "output_type": "execute_result"
    }
   ],
   "source": [
    "utility.load_state(collection_name)"
   ]
  },
  {
   "cell_type": "code",
   "execution_count": 34,
   "metadata": {},
   "outputs": [
    {
     "data": {
      "text/plain": [
       "{0: <LoadState: NotExist>,\n",
       " 1: <LoadState: NotLoad>,\n",
       " 2: <LoadState: Loading>,\n",
       " 3: <LoadState: Loaded>}"
      ]
     },
     "execution_count": 34,
     "metadata": {},
     "output_type": "execute_result"
    }
   ],
   "source": [
    "utility.load_state(collection_name)._value2member_map_"
   ]
  },
  {
   "cell_type": "code",
   "execution_count": 31,
   "metadata": {},
   "outputs": [
    {
     "name": "stdout",
     "output_type": "stream",
     "text": [
      "0.283829927444458\n"
     ]
    }
   ],
   "source": [
    "import random\n",
    "import numpy as np\n",
    "\n",
    "search_params = {\n",
    "    \"metric_type\": \"L2\", \n",
    "    \"offset\": 0, \n",
    "    \"ignore_growing\": False, \n",
    "    \"params\": {\"nprobe\": 16}\n",
    "}\n",
    "\n",
    "import time\n",
    "\n",
    "t1 = time.time()\n",
    "results = collection.search(\n",
    "    data=np.load('/home/borntowarn/projects/borntowarn/museum_search/storage/88567/15789098.npy'), \n",
    "    param=search_params,\n",
    "    limit=10,\n",
    "    anns_field='features',\n",
    "    output_fields=['image_path'],\n",
    "    consistency_level=\"Strong\"\n",
    ")\n",
    "print(time.time() - t1)"
   ]
  },
  {
   "cell_type": "code",
   "execution_count": 32,
   "metadata": {},
   "outputs": [
    {
     "data": {
      "text/plain": [
       "1"
      ]
     },
     "execution_count": 32,
     "metadata": {},
     "output_type": "execute_result"
    }
   ],
   "source": [
    "len(results)"
   ]
  },
  {
   "cell_type": "code",
   "execution_count": 13,
   "metadata": {},
   "outputs": [
    {
     "data": {
      "text/plain": [
       "{'id': 448790578819985778, 'distance': 109.1620101928711, 'entity': {}}"
      ]
     },
     "execution_count": 13,
     "metadata": {},
     "output_type": "execute_result"
    }
   ],
   "source": [
    "results[0][0].to_dict()"
   ]
  },
  {
   "cell_type": "code",
   "execution_count": 36,
   "metadata": {},
   "outputs": [
    {
     "name": "stdout",
     "output_type": "stream",
     "text": [
      "id: 449044806518289766, distance: 0.0, entity: {'image_path': '/storage/88567/15789098.jpg'}\n",
      "id: 449044806518300120, distance: 686.57373046875, entity: {'image_path': '/storage/25591922/28516587.jpg'}\n",
      "id: 449044806518298696, distance: 788.18115234375, entity: {'image_path': '/storage/4489434/9461077.jpg'}\n",
      "id: 449044806518290873, distance: 810.118408203125, entity: {'image_path': '/storage/3782500/628079.jpg'}\n",
      "id: 449044806518292570, distance: 861.5182495117188, entity: {'image_path': '/storage/14184942/12620998.jpg'}\n",
      "id: 449044806518295463, distance: 882.1611328125, entity: {'image_path': '/storage/29237780/33701213.jpg'}\n",
      "id: 449044806518307840, distance: 926.2139892578125, entity: {'image_path': '/storage/7403729/24123105.jpg'}\n",
      "id: 449044806518288946, distance: 952.1539916992188, entity: {'image_path': '/storage/10679790/7876274.jpg'}\n",
      "id: 449044806518303022, distance: 964.14306640625, entity: {'image_path': '/storage/27731580/31607028.jpg'}\n",
      "id: 449044806518290699, distance: 968.3494873046875, entity: {'image_path': '/storage/46774971/57806069.jpg'}\n"
     ]
    }
   ],
   "source": [
    "for i in results[0]:\n",
    "    print(i)"
   ]
  },
  {
   "cell_type": "code",
   "execution_count": null,
   "metadata": {},
   "outputs": [],
   "source": []
  }
 ],
 "metadata": {
  "kernelspec": {
   "display_name": "Python 3",
   "language": "python",
   "name": "python3"
  },
  "language_info": {
   "codemirror_mode": {
    "name": "ipython",
    "version": 3
   },
   "file_extension": ".py",
   "mimetype": "text/x-python",
   "name": "python",
   "nbconvert_exporter": "python",
   "pygments_lexer": "ipython3",
   "version": "3.11.8"
  }
 },
 "nbformat": 4,
 "nbformat_minor": 2
}
