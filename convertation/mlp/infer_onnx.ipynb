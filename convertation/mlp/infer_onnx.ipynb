{
 "cells": [
  {
   "cell_type": "code",
   "execution_count": 1,
   "metadata": {},
   "outputs": [
    {
     "name": "stderr",
     "output_type": "stream",
     "text": [
      "/home/free4ky/projects/museum_search/venv/lib/python3.10/site-packages/tqdm/auto.py:21: TqdmWarning: IProgress not found. Please update jupyter and ipywidgets. See https://ipywidgets.readthedocs.io/en/stable/user_install.html\n",
      "  from .autonotebook import tqdm as notebook_tqdm\n"
     ]
    }
   ],
   "source": [
    "from model import MLP\n",
    "import onnxruntime as ort\n",
    "import torch\n",
    "import numpy as np"
   ]
  },
  {
   "cell_type": "code",
   "execution_count": 2,
   "metadata": {},
   "outputs": [],
   "source": [
    "inputs = torch.randn((4, 1408), dtype=torch.float32) "
   ]
  },
  {
   "cell_type": "code",
   "execution_count": 3,
   "metadata": {},
   "outputs": [],
   "source": [
    "oinputs = {\n",
    "    \"classification_input\": inputs.numpy().astype(np.float32)\n",
    "}"
   ]
  },
  {
   "cell_type": "code",
   "execution_count": 4,
   "metadata": {},
   "outputs": [],
   "source": [
    "sess = ort.InferenceSession('mlp.onnx', providers=['CPUExecutionProvider'])"
   ]
  },
  {
   "cell_type": "code",
   "execution_count": 5,
   "metadata": {},
   "outputs": [],
   "source": [
    "ores = sess.run(None, oinputs)"
   ]
  },
  {
   "cell_type": "code",
   "execution_count": 6,
   "metadata": {},
   "outputs": [
    {
     "data": {
      "text/plain": [
       "array([[-0.90238297, -2.3921878 , -0.17438602, -1.6931089 , -1.0652775 ,\n",
       "         0.5103612 ,  0.14319254,  4.1414857 , -2.9492524 , -3.933328  ,\n",
       "         5.105617  , -1.7843027 ,  1.4222983 , -3.2117186 , -3.8466911 ],\n",
       "       [-1.8671016 , -2.7724364 ,  1.284509  ,  9.238093  , -2.8287537 ,\n",
       "        -2.3467941 , -2.1185303 , -1.2867466 , -1.4339646 , -4.735503  ,\n",
       "         4.0909805 , -0.38293174, -3.032908  , -2.2355843 , -6.3741193 ],\n",
       "       [-8.134947  , -7.4787707 ,  1.0061442 , -4.7199445 ,  2.5116198 ,\n",
       "        -3.2882864 , -1.979547  , -5.6660323 ,  4.9119496 , -4.5984674 ,\n",
       "         1.6981157 ,  9.749955  , -1.078701  , -9.464261  , -4.188462  ],\n",
       "       [-2.0295663 , -0.6436125 , -4.2777104 ,  1.2209531 , -3.5920734 ,\n",
       "        -6.751383  , -3.3041148 , -8.608288  ,  7.51472   , -5.3224564 ,\n",
       "         3.4173543 ,  6.618896  , -3.155294  , -6.021234  , -7.7269797 ]],\n",
       "      dtype=float32)"
      ]
     },
     "execution_count": 6,
     "metadata": {},
     "output_type": "execute_result"
    }
   ],
   "source": [
    "ores[0]"
   ]
  },
  {
   "cell_type": "code",
   "execution_count": 7,
   "metadata": {},
   "outputs": [
    {
     "data": {
      "text/plain": [
       "<All keys matched successfully>"
      ]
     },
     "execution_count": 7,
     "metadata": {},
     "output_type": "execute_result"
    }
   ],
   "source": [
    "model = MLP()\n",
    "model.load_state_dict(torch.load('./mlp_dict.pth'))\n",
    "# model = model.half()"
   ]
  },
  {
   "cell_type": "code",
   "execution_count": 8,
   "metadata": {},
   "outputs": [],
   "source": [
    "with torch.no_grad():\n",
    "    torch_res = model(inputs)"
   ]
  },
  {
   "cell_type": "code",
   "execution_count": 10,
   "metadata": {},
   "outputs": [
    {
     "data": {
      "text/plain": [
       "tensor([[ -0.5378,  -2.5193,   1.1920,  -1.3169,  -1.3155,   0.2960,   0.4848,\n",
       "           5.7498,  -3.7689,  -3.0399,   2.9376,  -1.7302,   1.1243,  -3.6886,\n",
       "          -3.7673],\n",
       "        [ -1.5204,  -5.5830,   2.6705,  13.5325,  -5.5915,  -0.5357,  -4.8715,\n",
       "          -4.3307,  -1.1725,  -3.9202,   4.4362,  -1.5446,  -3.0866,   0.3739,\n",
       "          -8.2610],\n",
       "        [ -8.6327,  -5.1015,   0.1752,  -4.4517,   2.9044,  -3.5610,   0.6088,\n",
       "          -4.0003,   5.3174,  -6.0430,   2.3320,   6.2603,  -1.4614,  -9.2696,\n",
       "          -3.8219],\n",
       "        [ -2.0227,  -1.1279,  -4.1546,   2.2820,  -6.3994,  -6.4794,  -5.5603,\n",
       "         -13.0608,  12.8246,  -5.5082,   5.0840,   6.1143,  -0.5989,  -7.3750,\n",
       "         -10.2402]])"
      ]
     },
     "execution_count": 10,
     "metadata": {},
     "output_type": "execute_result"
    }
   ],
   "source": [
    "torch_res"
   ]
  },
  {
   "cell_type": "code",
   "execution_count": 11,
   "metadata": {},
   "outputs": [
    {
     "data": {
      "text/plain": [
       "array([[-0.90238297, -2.3921878 , -0.17438602, -1.6931089 , -1.0652775 ,\n",
       "         0.5103612 ,  0.14319254,  4.1414857 , -2.9492524 , -3.933328  ,\n",
       "         5.105617  , -1.7843027 ,  1.4222983 , -3.2117186 , -3.8466911 ],\n",
       "       [-1.8671016 , -2.7724364 ,  1.284509  ,  9.238093  , -2.8287537 ,\n",
       "        -2.3467941 , -2.1185303 , -1.2867466 , -1.4339646 , -4.735503  ,\n",
       "         4.0909805 , -0.38293174, -3.032908  , -2.2355843 , -6.3741193 ],\n",
       "       [-8.134947  , -7.4787707 ,  1.0061442 , -4.7199445 ,  2.5116198 ,\n",
       "        -3.2882864 , -1.979547  , -5.6660323 ,  4.9119496 , -4.5984674 ,\n",
       "         1.6981157 ,  9.749955  , -1.078701  , -9.464261  , -4.188462  ],\n",
       "       [-2.0295663 , -0.6436125 , -4.2777104 ,  1.2209531 , -3.5920734 ,\n",
       "        -6.751383  , -3.3041148 , -8.608288  ,  7.51472   , -5.3224564 ,\n",
       "         3.4173543 ,  6.618896  , -3.155294  , -6.021234  , -7.7269797 ]],\n",
       "      dtype=float32)"
      ]
     },
     "execution_count": 11,
     "metadata": {},
     "output_type": "execute_result"
    }
   ],
   "source": [
    "ores[0]"
   ]
  },
  {
   "cell_type": "code",
   "execution_count": 45,
   "metadata": {},
   "outputs": [
    {
     "data": {
      "text/plain": [
       "tensor([1.8921e-03, 3.3531e-03, 5.5859e-01, 2.4700e-04, 1.3411e-05, 1.0717e-04,\n",
       "        3.7432e-05, 4.7632e-01, 2.0943e-03, 4.5836e-05, 3.8314e-04, 6.8054e-02,\n",
       "        1.4046e-02, 7.5698e-06, 8.1062e-06], dtype=torch.float16)"
      ]
     },
     "execution_count": 45,
     "metadata": {},
     "output_type": "execute_result"
    }
   ],
   "source": [
    "sum(abs(torch.nn.functional.softmax(torch_res, dim=-1) - torch.nn.functional.softmax(torch.from_numpy(ores[0]), dim=-1)))"
   ]
  },
  {
   "cell_type": "code",
   "execution_count": 44,
   "metadata": {},
   "outputs": [
    {
     "data": {
      "text/plain": [
       "tensor([[1.0000e+00, 0.0000e+00, 0.0000e+00, 5.9605e-07, 0.0000e+00, 5.9605e-08,\n",
       "         0.0000e+00, 0.0000e+00, 9.3579e-06, 5.9605e-08, 0.0000e+00, 0.0000e+00,\n",
       "         0.0000e+00, 3.6359e-06, 0.0000e+00],\n",
       "        [1.6451e-05, 1.4937e-04, 5.5176e-01, 2.4080e-05, 7.6890e-06, 1.2279e-05,\n",
       "         1.4246e-05, 4.3481e-01, 2.3842e-07, 2.3842e-07, 5.0187e-05, 8.9340e-03,\n",
       "         4.1313e-03, 5.9605e-08, 2.3842e-06],\n",
       "        [4.9114e-05, 9.8682e-01, 7.7438e-03, 2.2173e-05, 1.7881e-07, 3.5763e-07,\n",
       "         3.5167e-06, 9.3579e-06, 1.7242e-03, 1.0133e-06, 5.1260e-06, 3.6869e-03,\n",
       "         1.5497e-06, 2.5630e-06, 1.4007e-05],\n",
       "        [1.0389e-04, 6.9618e-04, 9.9121e-01, 5.9557e-04, 4.4107e-06, 7.9572e-05,\n",
       "         4.9710e-05, 4.5657e-04, 7.0858e-04, 5.1320e-05, 1.4818e-04, 5.6915e-03,\n",
       "         1.8442e-04, 2.0862e-06, 4.8280e-06]], dtype=torch.float16)"
      ]
     },
     "execution_count": 44,
     "metadata": {},
     "output_type": "execute_result"
    }
   ],
   "source": []
  }
 ],
 "metadata": {
  "kernelspec": {
   "display_name": "Python 3",
   "language": "python",
   "name": "python3"
  },
  "language_info": {
   "codemirror_mode": {
    "name": "ipython",
    "version": 3
   },
   "file_extension": ".py",
   "mimetype": "text/x-python",
   "name": "python",
   "nbconvert_exporter": "python",
   "pygments_lexer": "ipython3",
   "version": "3.11.8"
  }
 },
 "nbformat": 4,
 "nbformat_minor": 2
}
